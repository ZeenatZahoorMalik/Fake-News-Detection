{
 "cells": [
  {
   "cell_type": "markdown",
   "metadata": {
    "papermill": {
     "duration": 0.018191,
     "end_time": "2020-10-10T11:03:07.385025",
     "exception": false,
     "start_time": "2020-10-10T11:03:07.366834",
     "status": "completed"
    },
    "tags": []
   },
   "source": [
    "# Importing Libraries"
   ]
  },
  {
   "cell_type": "code",
   "execution_count": 1,
   "metadata": {
    "_cell_guid": "b1076dfc-b9ad-4769-8c92-a6c4dae69d19",
    "_uuid": "8f2839f25d086af736a60e9eeb907d3b93b6e0e5",
    "execution": {
     "iopub.execute_input": "2020-10-10T11:03:07.467450Z",
     "iopub.status.busy": "2020-10-10T11:03:07.466793Z",
     "iopub.status.idle": "2020-10-10T11:03:12.725778Z",
     "shell.execute_reply": "2020-10-10T11:03:12.726448Z"
    },
    "papermill": {
     "duration": 5.285466,
     "end_time": "2020-10-10T11:03:12.726646",
     "exception": false,
     "start_time": "2020-10-10T11:03:07.441180",
     "status": "completed"
    },
    "tags": []
   },
   "outputs": [
    {
     "name": "stdout",
     "output_type": "stream",
     "text": [
      "/kaggle/input/fake-and-real-news-dataset/True.csv\n",
      "/kaggle/input/fake-and-real-news-dataset/Fake.csv\n"
     ]
    }
   ],
   "source": [
    "import numpy as np \n",
    "import pandas as pd\n",
    "import tensorflow as tf\n",
    "import tensorflow_datasets as tfds\n",
    "import os\n",
    "for dirname, _, filenames in os.walk('/kaggle/input'):\n",
    "    for filename in filenames:\n",
    "        print(os.path.join(dirname, filename))"
   ]
  },
  {
   "cell_type": "markdown",
   "metadata": {
    "papermill": {
     "duration": 0.018851,
     "end_time": "2020-10-10T11:03:12.766010",
     "exception": false,
     "start_time": "2020-10-10T11:03:12.747159",
     "status": "completed"
    },
    "tags": []
   },
   "source": [
    "# Pre-Processing and Cleaning"
   ]
  },
  {
   "cell_type": "code",
   "execution_count": 2,
   "metadata": {
    "_cell_guid": "79c7e3d0-c299-4dcb-8224-4455121ee9b0",
    "_uuid": "d629ff2d2480ee46fbb7e2d37f6b5fab8052498a",
    "execution": {
     "iopub.execute_input": "2020-10-10T11:03:12.850235Z",
     "iopub.status.busy": "2020-10-10T11:03:12.849572Z",
     "iopub.status.idle": "2020-10-10T11:03:14.343301Z",
     "shell.execute_reply": "2020-10-10T11:03:14.343900Z"
    },
    "papermill": {
     "duration": 1.521377,
     "end_time": "2020-10-10T11:03:14.344064",
     "exception": false,
     "start_time": "2020-10-10T11:03:12.822687",
     "status": "completed"
    },
    "tags": []
   },
   "outputs": [],
   "source": [
    "fakedataset = pd.read_csv(\"C:/Users/DELL/Downloads/Fake (1).csv\")\n",
    "realdataset = pd.read_csv(\"C:/Users/DELL/Downloads/Truee (1).csv\") \n",
    "realdataset[\"class\"] = 1 # Adding Class to Real News\n",
    "fakedataset[\"class\"] = 0 # Adding Class to Fake News\n",
    "realdataset[\"text\"] = realdataset[\"title\"] + \" \" + realdataset[\"text\"] \n",
    "fakedataset[\"text\"] = fakedataset[\"title\"] + \" \" + fakedataset[\"text\"]\n",
    "realdataset = realdataset.drop([\"subject\", \"date\", \"title\"], axis = 1)\n",
    "fakedataset = fakedataset.drop([\"subject\", \"date\", \"title\"], axis = 1)\n",
    "dataset = realdataset.append(fakedataset, ignore_index = True) \n",
    "del realdataset, fakedataset "
   ]
  },
  {
   "cell_type": "markdown",
   "metadata": {
    "papermill": {
     "duration": 0.019722,
     "end_time": "2020-10-10T11:03:14.384323",
     "exception": false,
     "start_time": "2020-10-10T11:03:14.364601",
     "status": "completed"
    },
    "tags": []
   },
   "source": [
    "# Encoding the Corpus"
   ]
  },
  {
   "cell_type": "code",
   "execution_count": 3,
   "metadata": {
    "execution": {
     "iopub.execute_input": "2020-10-10T11:03:14.537524Z",
     "iopub.status.busy": "2020-10-10T11:03:14.500759Z",
     "iopub.status.idle": "2020-10-10T11:13:06.982956Z",
     "shell.execute_reply": "2020-10-10T11:13:06.982319Z"
    },
    "papermill": {
     "duration": 592.540014,
     "end_time": "2020-10-10T11:13:06.983090",
     "exception": false,
     "start_time": "2020-10-10T11:03:14.443076",
     "status": "completed"
    },
    "tags": []
   },
   "outputs": [],
   "source": [
    "vocab_size = 10000\n",
    "encoder = tfds.deprecated.text.SubwordTextEncoder.build_from_corpus(dataset[\"text\"], vocab_size)"
   ]
  },
  {
   "cell_type": "code",
   "execution_count": 4,
   "metadata": {
    "execution": {
     "iopub.execute_input": "2020-10-10T11:13:07.108689Z",
     "iopub.status.busy": "2020-10-10T11:13:07.093218Z",
     "iopub.status.idle": "2020-10-10T11:14:29.486109Z",
     "shell.execute_reply": "2020-10-10T11:14:29.485460Z"
    },
    "papermill": {
     "duration": 82.443603,
     "end_time": "2020-10-10T11:14:29.486235",
     "exception": false,
     "start_time": "2020-10-10T11:13:07.042632",
     "status": "completed"
    },
    "tags": []
   },
   "outputs": [],
   "source": [
    "def enc(dataframe):\n",
    "    tokenized = []\n",
    "    for sentence in dataframe[\"text\"].values:\n",
    "        tokenized.append(encoder.encode(sentence))\n",
    "    out = tf.keras.preprocessing.sequence.pad_sequences(tokenized, padding = \"post\")\n",
    "    return out\n",
    "x = enc(dataset)"
   ]
  },
  {
   "cell_type": "code",
   "execution_count": 5,
   "metadata": {
    "execution": {
     "iopub.execute_input": "2020-10-10T11:14:29.572443Z",
     "iopub.status.busy": "2020-10-10T11:14:29.571814Z",
     "iopub.status.idle": "2020-10-10T11:14:29.577054Z",
     "shell.execute_reply": "2020-10-10T11:14:29.577688Z"
    },
    "papermill": {
     "duration": 0.031681,
     "end_time": "2020-10-10T11:14:29.577835",
     "exception": false,
     "start_time": "2020-10-10T11:14:29.546154",
     "status": "completed"
    },
    "tags": []
   },
   "outputs": [
    {
     "name": "stdout",
     "output_type": "stream",
     "text": [
      "0        1\n",
      "1        1\n",
      "2        1\n",
      "3        1\n",
      "4        1\n",
      "        ..\n",
      "44893    0\n",
      "44894    0\n",
      "44895    0\n",
      "44896    0\n",
      "44897    0\n",
      "Name: class, Length: 44898, dtype: int64\n"
     ]
    }
   ],
   "source": [
    "y = dataset[\"class\"]\n",
    "print(y)"
   ]
  },
  {
   "cell_type": "markdown",
   "metadata": {
    "papermill": {
     "duration": 0.019661,
     "end_time": "2020-10-10T11:14:29.617453",
     "exception": false,
     "start_time": "2020-10-10T11:14:29.597792",
     "status": "completed"
    },
    "tags": []
   },
   "source": [
    "# Model Definition"
   ]
  },
  {
   "cell_type": "code",
   "execution_count": 6,
   "metadata": {
    "execution": {
     "iopub.execute_input": "2020-10-10T11:14:29.708969Z",
     "iopub.status.busy": "2020-10-10T11:14:29.708258Z",
     "iopub.status.idle": "2020-10-10T11:14:33.286332Z",
     "shell.execute_reply": "2020-10-10T11:14:33.285601Z"
    },
    "papermill": {
     "duration": 3.60915,
     "end_time": "2020-10-10T11:14:33.286452",
     "exception": false,
     "start_time": "2020-10-10T11:14:29.677302",
     "status": "completed"
    },
    "tags": []
   },
   "outputs": [],
   "source": [
    "# Model Definition\n",
    "model = tf.keras.Sequential([\n",
    "    tf.keras.layers.Embedding(encoder.vocab_size, 64), \n",
    "    tf.keras.layers.Bidirectional(tf.keras.layers.GRU(64,  return_sequences=True)),\n",
    "    tf.keras.layers.Bidirectional(tf.keras.layers.GRU(32)),\n",
    "    tf.keras.layers.Dense(64, activation='relu'),\n",
    "    tf.keras.layers.Dropout(0.5),\n",
    "    tf.keras.layers.Dense(1)\n",
    "])\n",
    "\n",
    "model.compile(optimizer='adam', loss='binary_crossentropy', metrics= ['acc']) # Compiling the Model"
   ]
  },
  {
   "cell_type": "markdown",
   "metadata": {
    "papermill": {
     "duration": 0.020038,
     "end_time": "2020-10-10T11:14:33.326830",
     "exception": false,
     "start_time": "2020-10-10T11:14:33.306792",
     "status": "completed"
    },
    "tags": []
   },
   "source": [
    "# Training the Model"
   ]
  },
  {
   "cell_type": "code",
   "execution_count": 7,
   "metadata": {
    "execution": {
     "iopub.execute_input": "2020-10-10T11:14:33.411841Z",
     "iopub.status.busy": "2020-10-10T11:14:33.411216Z",
     "iopub.status.idle": "2020-10-10T12:32:31.716154Z",
     "shell.execute_reply": "2020-10-10T12:32:31.715216Z"
    },
    "papermill": {
     "duration": 4678.329523,
     "end_time": "2020-10-10T12:32:31.716278",
     "exception": false,
     "start_time": "2020-10-10T11:14:33.386755",
     "status": "completed"
    },
    "tags": []
   },
   "outputs": [
    {
     "name": "stdout",
     "output_type": "stream",
     "text": [
      "Epoch 1/2\n",
      "1404/1404 [==============================] - 2324s 2s/step - loss: 0.0464 - acc: 0.9817\n",
      "Epoch 2/2\n",
      "1404/1404 [==============================] - 2341s 2s/step - loss: 0.0019 - acc: 0.9998\n"
     ]
    }
   ],
   "source": [
    "history = model.fit(x,y, epochs = 2)"
   ]
  },
  {
   "cell_type": "markdown",
   "metadata": {
    "papermill": {
     "duration": 0.973664,
     "end_time": "2020-10-10T12:32:33.660266",
     "exception": false,
     "start_time": "2020-10-10T12:32:32.686602",
     "status": "completed"
    },
    "tags": []
   },
   "source": [
    "# Predicting with the Model"
   ]
  },
  {
   "cell_type": "code",
   "execution_count": 8,
   "metadata": {
    "execution": {
     "iopub.execute_input": "2020-10-10T12:32:37.583190Z",
     "iopub.status.busy": "2020-10-10T12:32:37.582271Z",
     "iopub.status.idle": "2020-10-10T12:32:38.697173Z",
     "shell.execute_reply": "2020-10-10T12:32:38.696538Z"
    },
    "papermill": {
     "duration": 2.097592,
     "end_time": "2020-10-10T12:32:38.697308",
     "exception": false,
     "start_time": "2020-10-10T12:32:36.599716",
     "status": "completed"
    },
    "tags": []
   },
   "outputs": [
    {
     "name": "stdout",
     "output_type": "stream",
     "text": [
      "[[-0.44961074]]\n"
     ]
    }
   ],
   "source": [
    "def pad_to_size(vec, size):\n",
    "  zero = [0] * (size - len(vec))\n",
    "  vec.extend(zeros)\n",
    "  return vec\n",
    "\n",
    "def sample_predict(sample_pred_text, pad):\n",
    "  encoded_sample_pred_text = encoder.encode(sample_pred_text)\n",
    "\n",
    "  if pad:\n",
    "    encoded_sample_pred_text = pad_to_size(encoded_sample_pred_text, 64)\n",
    "  encoded_sample_pred_text = tf.cast(encoded_sample_pred_text, tf.float32)\n",
    "  predictions = model.predict(tf.expand_dims(encoded_sample_pred_text, 0))\n",
    "\n",
    "  return (predictions)\n",
    "\n",
    "sample_pred_text = ('The movie was cool. The animation and the graphics')\n",
    "predictions = sample_predict(sample_pred_text, pad=False)\n",
    "print(predictions)"
   ]
  },
  {
   "cell_type": "markdown",
   "metadata": {
    "papermill": {
     "duration": 0.982568,
     "end_time": "2020-10-10T12:32:40.698363",
     "exception": false,
     "start_time": "2020-10-10T12:32:39.715795",
     "status": "completed"
    },
    "tags": []
   },
   "source": [
    " # Download the Model Weights for Yourself"
   ]
  },
  {
   "cell_type": "code",
   "execution_count": 9,
   "metadata": {
    "execution": {
     "iopub.execute_input": "2020-10-10T12:32:42.887001Z",
     "iopub.status.busy": "2020-10-10T12:32:42.886077Z",
     "iopub.status.idle": "2020-10-10T12:32:42.952413Z",
     "shell.execute_reply": "2020-10-10T12:32:42.951912Z"
    },
    "papermill": {
     "duration": 1.280937,
     "end_time": "2020-10-10T12:32:42.952526",
     "exception": false,
     "start_time": "2020-10-10T12:32:41.671589",
     "status": "completed"
    },
    "tags": []
   },
   "outputs": [
    {
     "data": {
      "text/html": [
       "<a href='my_model.h5' target='_blank'>my_model.h5</a><br>"
      ],
      "text/plain": [
       "/kaggle/working/my_model.h5"
      ]
     },
     "execution_count": 9,
     "metadata": {},
     "output_type": "execute_result"
    }
   ],
   "source": [
    "model.save('my_model.h5') \n",
    "import os\n",
    "from IPython.display import FileLink\n",
    "FileLink(r'my_model.h5')"
   ]
  }
 ],
 "metadata": {
  "kernelspec": {
   "display_name": "Python 3",
   "language": "python",
   "name": "python3"
  },
  "language_info": {
   "codemirror_mode": {
    "name": "ipython",
    "version": 3
   },
   "file_extension": ".py",
   "mimetype": "text/x-python",
   "name": "python",
   "nbconvert_exporter": "python",
   "pygments_lexer": "ipython3",
   "version": "3.8.8"
  },
  "papermill": {
   "duration": 5382.62518,
   "end_time": "2020-10-10T12:32:45.881443",
   "environment_variables": {},
   "exception": null,
   "input_path": "__notebook__.ipynb",
   "output_path": "__notebook__.ipynb",
   "parameters": {},
   "start_time": "2020-10-10T11:03:03.256263",
   "version": "2.1.0"
  }
 },
 "nbformat": 4,
 "nbformat_minor": 4
}
